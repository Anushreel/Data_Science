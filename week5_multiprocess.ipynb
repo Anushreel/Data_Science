{
 "cells": [
  {
   "cell_type": "markdown",
   "metadata": {},
   "source": [
    "week 5 multiprocesing\n",
    "Q1. What is multiprocessing in python? Why is it useful?"
   ]
  },
  {
   "cell_type": "code",
   "execution_count": null,
   "metadata": {},
   "outputs": [],
   "source": [
    "'''\n",
    "Multiprocessing in Python refers to the capability of running multiple processes or tasks concurrently in order to leverage the multiple CPU cores \n",
    "available in modern computers. It's a technique for achieving parallelism, where different parts of a program execute simultaneously and independently.\n",
    "Python's multiprocessing module provides a straightforward way to create and manage multiple processes.\n",
    "\n",
    "->Multiprocessing allows us to execute multiple tasks or processes in parallel, taking full advantage of multi-core CPUs. \n",
    "  This can significantly improve the performance and efficiency of CPU-bound tasks.\n",
    "->Each process runs in its own separate memory space, which means that they are isolated from each other. \n",
    "  This isolation helps prevent data corruption and provides a high degree of stability.\n",
    "->Multiprocessing is particularly useful when you need to scale your code to take advantage of available CPU cores. It's a common approach for\n",
    "  tasks like data processing, scientific computing, and simulations, where you can divide the work into smaller chunks that can be processed concurrently.\n",
    "->By running tasks in separate processes, errors or crashes in one process typically do not affect others. \n",
    "  This improves the robustness and fault tolerance of your programs.\n",
    "'''"
   ]
  },
  {
   "cell_type": "markdown",
   "metadata": {},
   "source": [
    "Q2. What are the differences between multiprocessing and multithreading?"
   ]
  },
  {
   "cell_type": "code",
   "execution_count": null,
   "metadata": {},
   "outputs": [],
   "source": [
    "'''\n",
    "Multiprocessing and multithreading are two different approaches to achieving concurrency and parallelism in a program.\n",
    "\n",
    "Processes vs. Threads:\n",
    "\n",
    "Multiprocessing: Multiprocessing involves running multiple independent processes, where each process has its own separate memory space and Python interpreter.\n",
    "Processes are heavyweight, and they are created and managed by the operating system. They run independently of each other and communicate through \n",
    "inter-process communication (IPC) mechanisms.\n",
    "\n",
    "Multithreading: Multithreading involves running multiple threads within the same process. Threads share the same memory space and Python interpreter as the \n",
    "parent process. Threads are lightweight and are managed by the Python interpreter itself.\n",
    "\n",
    "Isolation:\n",
    "\n",
    "Multiprocessing: Processes are isolated from each other, meaning that one process's memory or resource issues do not directly affect others. \n",
    "This isolation provides a high degree of stability but requires more overhead due to separate memory spaces.\n",
    "\n",
    "Multithreading: Threads within the same process share memory, which can lead to potential issues like data corruption or race conditions if \n",
    "not managed carefully.\n",
    "\n",
    "Parallelism:\n",
    "\n",
    "Multiprocessing: Multiprocessing achieves true parallelism by utilizing multiple CPU cores effectively. \n",
    "Each process runs independently on a separate CPU core.\n",
    "\n",
    "Multithreading: Multithreading can achieve concurrency but may not fully utilize multiple CPU cores due to the Global Interpreter Lock (GIL) in Python, \n",
    "which restricts the execution of Python bytecode to a single thread at a time. Multithreading is more suitable for I/O-bound tasks than CPU-bound tasks.\n",
    "\n",
    "Use Cases:\n",
    "\n",
    "Multiprocessing: It is well-suited for CPU-bound tasks that can be parallelized, such as complex calculations, simulations, and data processing. \n",
    "It is also useful when dealing with processes that need to run independently and may benefit from utilizing multiple CPU cores.\n",
    "\n",
    "Multithreading: Multithreading is more suitable for I/O-bound tasks, such as network communication, file I/O, and GUI applications. \n",
    "It can provide concurrency and responsiveness in such scenarios but may not yield significant performance improvements for CPU-bound tasks.\n",
    "\n",
    "Overhead:\n",
    "\n",
    "Multiprocessing: Multiprocessing typically involves higher overhead in terms of memory and system resources because each process has its own memory \n",
    "space and Python interpreter.\n",
    "\n",
    "Multithreading: Multithreading has lower overhead in terms of memory and system resources compared to multiprocessing because threads share \n",
    "memory within the same process.\n",
    "\n",
    "Complexity:\n",
    "\n",
    "Multiprocessing: Implementing multiprocessing can be more complex due to the need for inter-process communication mechanisms and managing separate processes.\n",
    "\n",
    "Multithreading: Multithreading can be more straightforward to implement since threads share memory, but it can also introduce complex synchronization \n",
    "and race condition issues.\n",
    "\n",
    "'''"
   ]
  },
  {
   "cell_type": "markdown",
   "metadata": {},
   "source": [
    "Q3. Write a python code to create a process using the multiprocessing module."
   ]
  },
  {
   "cell_type": "code",
   "execution_count": 2,
   "metadata": {},
   "outputs": [
    {
     "name": "stdout",
     "output_type": "stream",
     "text": [
      "Main process is done.\n"
     ]
    }
   ],
   "source": [
    "import multiprocessing\n",
    "\n",
    "def func():\n",
    "    print(\"This is multiprocessing\")\n",
    "\n",
    "if __name__ == '__main__':\n",
    "    m = multiprocessing.Process(target=func)\n",
    "    m.start()\n",
    "    m.join()\n",
    "\n",
    "print(\"Main process is done.\")\n"
   ]
  },
  {
   "cell_type": "markdown",
   "metadata": {},
   "source": [
    "Q4. What is a multiprocessing pool in python? Why is it used?"
   ]
  },
  {
   "cell_type": "code",
   "execution_count": null,
   "metadata": {},
   "outputs": [],
   "source": [
    "\"\"\" \n",
    "In Python, a multiprocessing pool is a mechanism provided by the multiprocessing module that allows you to efficiently parallelize and distribute \n",
    "tasks across multiple processes, taking advantage of the available CPU cores. It is particularly useful when you need to perform a function or method on \n",
    "multiple input values or data points concurrently, such as in data processing, parallel computation, or parallelizing independent tasks.\n",
    "\n",
    "Parallelism: A pool allows you to perform a function or task on multiple inputs in parallel, which can significantly speed up execution, \n",
    "especially on multi-core CPUs.\n",
    "\n",
    "Concurrent Processing: Tasks are distributed to multiple worker processes, and each worker can process a task independently and concurrently. \n",
    "This enables efficient utilization of CPU resources.\n",
    "\"\"\""
   ]
  },
  {
   "cell_type": "markdown",
   "metadata": {},
   "source": [
    "Q5. How can we create a pool of worker processes in python using the multiprocessing module?"
   ]
  },
  {
   "cell_type": "code",
   "execution_count": null,
   "metadata": {},
   "outputs": [],
   "source": []
  },
  {
   "cell_type": "markdown",
   "metadata": {},
   "source": [
    "Q6. Write a python program to create 4 processes, each process should print a different number using the\n",
    "multiprocessing module in python."
   ]
  },
  {
   "cell_type": "code",
   "execution_count": null,
   "metadata": {},
   "outputs": [],
   "source": []
  }
 ],
 "metadata": {
  "kernelspec": {
   "display_name": "Python 3",
   "language": "python",
   "name": "python3"
  },
  "language_info": {
   "codemirror_mode": {
    "name": "ipython",
    "version": 3
   },
   "file_extension": ".py",
   "mimetype": "text/x-python",
   "name": "python",
   "nbconvert_exporter": "python",
   "pygments_lexer": "ipython3",
   "version": "3.11.5"
  },
  "orig_nbformat": 4
 },
 "nbformat": 4,
 "nbformat_minor": 2
}
