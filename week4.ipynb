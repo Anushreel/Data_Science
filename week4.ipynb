{
 "cells": [
  {
   "cell_type": "markdown",
   "metadata": {},
   "source": [
    "# week 4\n",
    "Q1 Explain Class and Object with respect to Object-Oriented Programming. Give a suitable example."
   ]
  },
  {
   "cell_type": "code",
   "execution_count": 15,
   "metadata": {},
   "outputs": [
    {
     "name": "stdout",
     "output_type": "stream",
     "text": [
      "Bob\n",
      "25\n",
      "My name is Bob and I am 25 years old.\n"
     ]
    }
   ],
   "source": [
    "'''\n",
    "Class:\n",
    "*A class is a blueprint or a template for creating objects. It defines the structure and behavior of objects of that class.\n",
    "*It serves as a template that specifies what attributes (properties) and methods (functions) an object of that class will have.\n",
    "*It encapsulates data and methods that operate on that data.\n",
    "*Classes are typically used to create multiple instances (objects) that share the same structure and behavior defined by the class.\n",
    "*class names are usually written in camelCase\n",
    "'''\n",
    "\n",
    "\"\"\"\n",
    "Object:\n",
    "*An object is an instance of a class. It is a physical form of class's blueprint, with its own unique data and state.\n",
    "*An object is a self-contained unit that can store data (attributes) and perform actions (methods) defined in its class.\n",
    "*Objects are used to represent real-world entities, concepts, or data in your program.\n",
    "*They can be created based on the template provided by a class.\n",
    "*Each object of a class operates independently and can have its own values for the attributes defined in the class.\n",
    "\"\"\"\n",
    "class Person:\n",
    "    def __init__(self, name, age):\n",
    "        self.name = name  \n",
    "        self.age = age   \n",
    "\n",
    "    def introduce(self):\n",
    "        return f\"My name is {self.name} and I am {self.age} years old.\"\n",
    "\n",
    "# Create two instances (objects) of the \"Person\" class\n",
    "person1 = Person(\"Bob\", 25)\n",
    "\n",
    "print(person1.name)           \n",
    "print(person1.age)            \n",
    "print(person1.introduce())    "
   ]
  },
  {
   "cell_type": "markdown",
   "metadata": {},
   "source": [
    "Q2. Name the four pillars of OOPs."
   ]
  },
  {
   "cell_type": "code",
   "execution_count": 16,
   "metadata": {},
   "outputs": [
    {
     "data": {
      "text/plain": [
       "'\\nFour pillars of OOPs are:\\n1) Encapsulation: Bundling data and methods into a class, with controlled access to data.\\n2) Abstraction: Simplifying complex systems by focusing on essential features.\\n3) Inheritance: Creating new classes based on existing ones, promoting code reuse.\\n4) Polymorphism: Allowing objects of different types to respond to the same method.\\n'"
      ]
     },
     "execution_count": 16,
     "metadata": {},
     "output_type": "execute_result"
    }
   ],
   "source": [
    "\"\"\"\n",
    "Four pillars of OOPs are:\n",
    "1) Encapsulation: Bundling data and methods into a class, with controlled access to data.\n",
    "2) Abstraction: Simplifying complex systems by focusing on essential features.\n",
    "3) Inheritance: Creating new classes based on existing ones, promoting code reuse.\n",
    "4) Polymorphism: Allowing objects of different types to respond to the same method.\n",
    "\"\"\""
   ]
  },
  {
   "cell_type": "markdown",
   "metadata": {},
   "source": [
    "Q3. Explain why the __init__() function is used. Give a suitable example."
   ]
  },
  {
   "cell_type": "code",
   "execution_count": 14,
   "metadata": {},
   "outputs": [
    {
     "name": "stdout",
     "output_type": "stream",
     "text": [
      "My name is Alice and I am 30 years old.\n"
     ]
    }
   ],
   "source": [
    "\"\"\"\n",
    "The __init__() function, also known as the constructor, is a special method in object-oriented programming (OOP) used to initialize the \n",
    "attributes (properties) of an object when it is created from a class. It is automatically called when you create a new instance of a class. \n",
    "\n",
    "The primary purposes of the __init__() method are as follows:\n",
    "\n",
    "1)Attribute Initialization: It allows you to initialize the initial state of an object by assigning values to its attributes. \n",
    "This is important because objects often need to have certain data or properties set when they are created.\n",
    "\n",
    "2)Parameter Passing: You can pass arguments to the __init__() method when creating an object. \n",
    "These arguments can be used to set the initial values of attributes based on the provided data.\n",
    "\n",
    "3)Object Initialization Logic: The __init__() method can contain logic that needs to run when an object is created. \n",
    "This might include tasks like opening files, connecting to databases, or performing any other setup required for the object.\n",
    "\"\"\"\n",
    "class Person:\n",
    "    def __init__(self, name, age):\n",
    "        self.name = name  \n",
    "        self.age = age   \n",
    "\n",
    "    def introduce(self):\n",
    "        return f\"My name is {self.name} and I am {self.age} years old.\"\n",
    "\n",
    "# Creating instances of the Person class\n",
    "person1 = Person(\"Alice\", 30)\n",
    "\n",
    "# Accessing attributes and calling methods\n",
    "print(person1.introduce())\n"
   ]
  },
  {
   "cell_type": "markdown",
   "metadata": {},
   "source": [
    "Q4. Why self is used in OOPs?"
   ]
  },
  {
   "cell_type": "code",
   "execution_count": 13,
   "metadata": {},
   "outputs": [
    {
     "name": "stdout",
     "output_type": "stream",
     "text": [
      "Hello, my name is Alice and I am 30 years old.\n"
     ]
    }
   ],
   "source": [
    "\"\"\"\n",
    "In object-oriented programming (OOP), 'self' is used as a reference to the instance of a class. It is a convention used in many programming languages.\n",
    "The use of self is essential for several reasons:\n",
    "\n",
    "1]Instance-Specific Data: In OOP, classes define blueprints for creating objects (instances). Each instance of a class can have its own unique data or \n",
    "attributes. By using self, you can access and manipulate these attributes within the methods of the class. This allows you to work with instance-specific\n",
    "data and avoid conflicts between different instances of the same class.\n",
    "\n",
    "2]Method Invocation: When a method is called on an instance of a class, self ensures that the method operates on the data associated with that particular\n",
    "instance. Without self, it would be ambiguous which instance's data the method should work with.\n",
    "\n",
    "3]Encapsulation: self helps enforce the principle of encapsulation, which is one of the fundamental concepts of OOP. \n",
    "Encapsulation means that an object's data (attributes) should be accessed and modified only through its methods, not directly. \n",
    "self ensures that you work with the object's data within its own methods, maintaining encapsulation and data integrity.\n",
    "\n",
    "4]Method Chaining: self also enables method chaining, which is a technique where multiple methods can be called on an object in a single line of code. \n",
    "Each method typically returns self, allowing you to chain multiple method calls together.\n",
    "\"\"\"\n",
    "class Person:\n",
    "    def __init__(self, name, age):\n",
    "        self.name = name  \n",
    "        self.age = age   \n",
    "\n",
    "    def greet(self):\n",
    "        return f\"Hello, my name is {self.name} and I am {self.age} years old.\"\n",
    "\n",
    "# Creating an instance of the Person class\n",
    "person1 = Person(\"Alice\", 30)\n",
    "\n",
    "# Accessing instance attributes using self\n",
    "print(person1.greet()) "
   ]
  },
  {
   "cell_type": "markdown",
   "metadata": {},
   "source": [
    "Q5. What is inheritance? Give an example for each type of inheritance."
   ]
  },
  {
   "cell_type": "code",
   "execution_count": 3,
   "metadata": {},
   "outputs": [
    {
     "name": "stdout",
     "output_type": "stream",
     "text": [
      "this is parent class\n",
      "this is child class\n"
     ]
    }
   ],
   "source": [
    "\"\"\"\n",
    "Inheritance is a fundamental concept in object-oriented programming (OOP) that allows a class (subclass or derived class) to inherit properties and\n",
    "behaviors (attributes and methods) from another class (superclass or base class).\n",
    "It enables code reuse and the creation of a hierarchy of classes, where more specialized subclasses can inherit and extend the functionality\n",
    "of more general superclasses.\n",
    "\"\"\"\n",
    "'''\n",
    "There are several types of inheritance, including:\n",
    "\n",
    "1) Single Inheritance:\n",
    "Single inheritance involves a subclass inheriting properties and behaviors from a single superclass. It's a simple form of inheritance.\n",
    "'''\n",
    "class single_parent:\n",
    "    def parent(self):\n",
    "        print(\"this is parent class\")\n",
    "\n",
    "class child(single_parent):\n",
    "    def childd(self):\n",
    "        print(\"this is child class\")\n",
    "\n",
    "child_obj=child()\n",
    "child_obj.parent()#child class can access methods of parent class\n",
    "child_obj.childd()"
   ]
  },
  {
   "cell_type": "code",
   "execution_count": 5,
   "metadata": {},
   "outputs": [
    {
     "name": "stdout",
     "output_type": "stream",
     "text": [
      "a\n",
      "b\n",
      "c\n"
     ]
    }
   ],
   "source": [
    "\"\"\"\n",
    "2) Multiple Inheritance:\n",
    "Multiple inheritance allows a subclass to inherit from multiple superclasses. This can lead to complex class hierarchies.\n",
    "\"\"\"\n",
    "class a:\n",
    "    def a_fun(self):\n",
    "        print(\"a\")\n",
    "class b:\n",
    "    def b_fun(self):\n",
    "        print(\"b\")\n",
    "class c(a,b):\n",
    "    def c_fun(self):\n",
    "        print(\"c\")\n",
    "\n",
    "c_obj=c()\n",
    "c_obj.a_fun()#c class object can access functions of a and b class\n",
    "c_obj.b_fun()\n",
    "c_obj.c_fun()"
   ]
  },
  {
   "cell_type": "code",
   "execution_count": 4,
   "metadata": {},
   "outputs": [
    {
     "name": "stdout",
     "output_type": "stream",
     "text": [
      "grandparent\n",
      "parent\n",
      "child\n"
     ]
    }
   ],
   "source": [
    "\"\"\" \n",
    "3) Multilevel Inheritance:\n",
    "Multilevel inheritance involves a chain of inheritance where a subclass inherits from another subclass, creating a hierarchy of classes.\n",
    "\"\"\"\n",
    "class grandparent:\n",
    "    def gp_fun(self):\n",
    "        print(\"grandparent\")\n",
    "class parent(grandparent):\n",
    "    def p_fun(self):\n",
    "        print(\"parent\")\n",
    "class child(parent):\n",
    "    def c_fun(self):\n",
    "        print(\"child\")\n",
    "\n",
    "child_obj=child()\n",
    "child_obj.gp_fun()#child class object can access functions of parent and grandparent class\n",
    "child_obj.p_fun()\n",
    "child_obj.c_fun()"
   ]
  },
  {
   "cell_type": "code",
   "execution_count": 6,
   "metadata": {},
   "outputs": [
    {
     "name": "stdout",
     "output_type": "stream",
     "text": [
      "Vehicle\n",
      "4 wheeler vehicle\n",
      "Vehicle\n",
      "2 wheeler vehicle\n"
     ]
    }
   ],
   "source": [
    "\"\"\"\n",
    "4) Hierarchical Inheritance:\n",
    "Hierarchical inheritance occurs when multiple subclasses inherit from a single superclass.\n",
    "\"\"\"\n",
    "class Vehicle:\n",
    "    def start(self):\n",
    "        print(\"Vehicle\")\n",
    "\n",
    "class Car(Vehicle):\n",
    "    def drive(self):\n",
    "        print(\"4 wheeler vehicle\")\n",
    "\n",
    "class Motorcycle(Vehicle):\n",
    "    def ride(self):\n",
    "        print(\"2 wheeler vehicle\")\n",
    "\n",
    "car = Car()\n",
    "motorcycle = Motorcycle()\n",
    "car.start()\n",
    "car.drive()\n",
    "motorcycle.start()\n",
    "motorcycle.ride()\n"
   ]
  },
  {
   "cell_type": "code",
   "execution_count": 12,
   "metadata": {},
   "outputs": [
    {
     "name": "stdout",
     "output_type": "stream",
     "text": [
      "A method\n",
      "b parent a, shows single inheritance\n",
      "\n",
      "\n",
      "A method\n",
      "b parent a, shows single inheritance\n",
      "c parent b and grandparent a, shows multilevel inheritance\n",
      "\n",
      "\n",
      "A method\n",
      "b parent a, shows single inheritance\n",
      "E method\n",
      "d parent b and e,shows multiple inheritance and grandparent a, shows multilevel inheritance\n"
     ]
    }
   ],
   "source": [
    "\"\"\"\n",
    "5) Hybrid Inheritance:\n",
    "Hybrid inheritance is a combination of two or more types of inheritance. It can involve multiple, multilevel, and hierarchical inheritance all \n",
    "in one class hierarchy.\n",
    "\"\"\"\n",
    "class A:\n",
    "    def method_A(self):\n",
    "        print(\"A method\")\n",
    "\n",
    "class B(A):\n",
    "    def method_B(self):\n",
    "        print(\"b parent a, shows single inheritance\")\n",
    "\n",
    "class C(B):\n",
    "    def method_C(self):\n",
    "        print(\"c parent b and grandparent a, shows multilevel inheritance\")\n",
    "\n",
    "class E:\n",
    "    def method_E(self):\n",
    "        print(\"E method\")\n",
    "\n",
    "class D(B, E):\n",
    "    def method_D(self):\n",
    "        print(\"d parent b and e,shows multiple inheritance and grandparent a, shows multilevel inheritance\")\n",
    "        \n",
    "b_obj=B()\n",
    "b_obj.method_A()\n",
    "b_obj.method_B()\n",
    "print(\"\\n\")\n",
    "c_obj=C()\n",
    "c_obj.method_A()\n",
    "c_obj.method_B()\n",
    "c_obj.method_C()\n",
    "print(\"\\n\")\n",
    "d_obj=D()\n",
    "d_obj.method_A()\n",
    "d_obj.method_B()\n",
    "d_obj.method_E()\n",
    "d_obj.method_D()"
   ]
  },
  {
   "cell_type": "code",
   "execution_count": null,
   "metadata": {},
   "outputs": [],
   "source": []
  }
 ],
 "metadata": {
  "kernelspec": {
   "display_name": "Python 3",
   "language": "python",
   "name": "python3"
  },
  "language_info": {
   "codemirror_mode": {
    "name": "ipython",
    "version": 3
   },
   "file_extension": ".py",
   "mimetype": "text/x-python",
   "name": "python",
   "nbconvert_exporter": "python",
   "pygments_lexer": "ipython3",
   "version": "3.11.4"
  },
  "orig_nbformat": 4
 },
 "nbformat": 4,
 "nbformat_minor": 2
}
