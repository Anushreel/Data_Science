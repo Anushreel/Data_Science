{
 "cells": [
  {
   "cell_type": "markdown",
   "metadata": {},
   "source": [
    "Q1. What is an Exception in python? Write the difference between Exceptions and Syntax errors."
   ]
  },
  {
   "cell_type": "code",
   "execution_count": 1,
   "metadata": {},
   "outputs": [
    {
     "name": "stdout",
     "output_type": "stream",
     "text": [
      "invalid literal for int() with base 10: 'pwskills'\n"
     ]
    }
   ],
   "source": [
    "'''\n",
    "An exception is an event that occurs during the execution of a program that disrupts the normal flow of the program's instructions. \n",
    "When an exception occurs, the program's normal execution is halted, and Python raises an exception object that contains information about the error, such\n",
    "as its type and a message describing the error. \n",
    "'''\n",
    "'''\n",
    "Exception:\n",
    "> It's a runtime error.\n",
    "> It occurs when somthing unexpected happens. Like- division by zero, accessing an out of bound index, reading a non-existing file.\n",
    "> Disturbes the normal flow of program.\n",
    "> Can be handeled using try-except block.\n",
    "'''\n",
    "'''\n",
    "Syntax:\n",
    "> Compile time error.\n",
    "> It occurs when there's a mistake in syntax, or invalid variable,indendation error etc.\n",
    "> The programm won't run as the interpreter won't be able to identify the code.\n",
    "> Errors must be fixed before running the program.\n",
    "'''\n",
    "#Exception\n",
    "try:\n",
    "    int(\"pwskills\")\n",
    "except Exception as e:\n",
    "    print(e)\n",
    "# prints invalid literal error\n",
    "\n",
    "#syntax error\n",
    "#program wont run"
   ]
  },
  {
   "cell_type": "markdown",
   "metadata": {},
   "source": [
    "Q2. What happens when an exception is not handled? Explain with an example"
   ]
  },
  {
   "cell_type": "code",
   "execution_count": 4,
   "metadata": {},
   "outputs": [
    {
     "ename": "ZeroDivisionError",
     "evalue": "division by zero",
     "output_type": "error",
     "traceback": [
      "\u001b[1;31m---------------------------------------------------------------------------\u001b[0m",
      "\u001b[1;31mZeroDivisionError\u001b[0m                         Traceback (most recent call last)",
      "\u001b[1;32mc:\\Users\\Vinutha L\\Desktop\\git_al\\Data_Science\\python\\week5.ipynb Cell 4\u001b[0m line \u001b[0;36m6\n\u001b[0;32m      <a href='vscode-notebook-cell:/c%3A/Users/Vinutha%20L/Desktop/git_al/Data_Science/python/week5.ipynb#W4sZmlsZQ%3D%3D?line=3'>4</a>\u001b[0m \u001b[39mdef\u001b[39;00m \u001b[39merror\u001b[39m(a,b):\n\u001b[0;32m      <a href='vscode-notebook-cell:/c%3A/Users/Vinutha%20L/Desktop/git_al/Data_Science/python/week5.ipynb#W4sZmlsZQ%3D%3D?line=4'>5</a>\u001b[0m     \u001b[39mreturn\u001b[39;00m a\u001b[39m/\u001b[39mb\n\u001b[1;32m----> <a href='vscode-notebook-cell:/c%3A/Users/Vinutha%20L/Desktop/git_al/Data_Science/python/week5.ipynb#W4sZmlsZQ%3D%3D?line=5'>6</a>\u001b[0m error(\u001b[39m10\u001b[39;49m,\u001b[39m0\u001b[39;49m)\n\u001b[0;32m      <a href='vscode-notebook-cell:/c%3A/Users/Vinutha%20L/Desktop/git_al/Data_Science/python/week5.ipynb#W4sZmlsZQ%3D%3D?line=6'>7</a>\u001b[0m \u001b[39mprint\u001b[39m(\u001b[39m\"\u001b[39m\u001b[39mthis line of code won\u001b[39m\u001b[39m'\u001b[39m\u001b[39mt be reached\u001b[39m\u001b[39m\"\u001b[39m)\n",
      "\u001b[1;32mc:\\Users\\Vinutha L\\Desktop\\git_al\\Data_Science\\python\\week5.ipynb Cell 4\u001b[0m line \u001b[0;36m5\n\u001b[0;32m      <a href='vscode-notebook-cell:/c%3A/Users/Vinutha%20L/Desktop/git_al/Data_Science/python/week5.ipynb#W4sZmlsZQ%3D%3D?line=3'>4</a>\u001b[0m \u001b[39mdef\u001b[39;00m \u001b[39merror\u001b[39m(a,b):\n\u001b[1;32m----> <a href='vscode-notebook-cell:/c%3A/Users/Vinutha%20L/Desktop/git_al/Data_Science/python/week5.ipynb#W4sZmlsZQ%3D%3D?line=4'>5</a>\u001b[0m     \u001b[39mreturn\u001b[39;00m a\u001b[39m/\u001b[39;49mb\n",
      "\u001b[1;31mZeroDivisionError\u001b[0m: division by zero"
     ]
    }
   ],
   "source": [
    "'''\n",
    "In python, if an exception isn't handled the program terminated abruptly and further code won't be executed. An error message will be displayed.\n",
    "'''\n",
    "def error(a,b):\n",
    "    return a/b\n",
    "error(10,0)\n",
    "print(\"this line of code won't be reached\")"
   ]
  },
  {
   "cell_type": "markdown",
   "metadata": {},
   "source": [
    "Q3. Which Python statements are used to catch and handle exceptions? Explain with an example"
   ]
  },
  {
   "cell_type": "code",
   "execution_count": 6,
   "metadata": {},
   "outputs": [
    {
     "name": "stdout",
     "output_type": "stream",
     "text": [
      "1\n",
      "2\n",
      "3\n",
      "list index out of range\n"
     ]
    }
   ],
   "source": [
    "'''\n",
    "try- is used to catch the exception.\n",
    "except- used to handle exception.\n",
    "these allows to write suspicious code that can return runtime error and allows to handel it.\n",
    "'''\n",
    "\"\"\"\n",
    "#syntax\n",
    "try:\n",
    "    block of suspicious code\n",
    "except:\n",
    "    handling when exception is caught by try block\n",
    "\"\"\"\n",
    "try:\n",
    "    a=[1,2,3]\n",
    "    for i in range(5):\n",
    "        print(a[i])\n",
    "except Exception as e:\n",
    "    print(e)"
   ]
  },
  {
   "cell_type": "markdown",
   "metadata": {},
   "source": [
    "\n",
    "Q4. Explain with an example:\n",
    "a. try and else\n",
    "b. finally\n",
    "c. raise"
   ]
  },
  {
   "cell_type": "code",
   "execution_count": 13,
   "metadata": {},
   "outputs": [
    {
     "name": "stdout",
     "output_type": "stream",
     "text": [
      "a\n",
      "unsupported operand type(s) for +: 'int' and 'str'\n",
      "prints only is try block completes its execution without any error\n",
      "\n",
      "\n",
      "b\n",
      "[Errno 2] No such file or directory: 'xtx.txt'\n",
      "Prints whether there's an exception or not\n",
      "\n",
      "\n",
      "c\n"
     ]
    },
    {
     "name": "stdout",
     "output_type": "stream",
     "text": [
      "its negative\n"
     ]
    }
   ],
   "source": [
    "#a\n",
    "print(\"a\")\n",
    "try:\n",
    "    111+\"hello\"\n",
    "except Exception as e:\n",
    "    print(e)\n",
    "else:\n",
    "    print(\"prints only is try block completes its execution without any error\")\n",
    "\n",
    "try:\n",
    "    \"111\"+\"hello\"\n",
    "except Exception as e:\n",
    "    print(e)\n",
    "else:\n",
    "    print(\"prints only is try block completes its execution without any error\")\n",
    "print(\"\\n\")\n",
    "#b\n",
    "print(\"b\")\n",
    "try:\n",
    "    f=open(\"xtx.txt\",\"r\")\n",
    "    print(f)\n",
    "except Exception as r:\n",
    "    print(r)\n",
    "finally:\n",
    "    print(\"Prints whether there's an exception or not\")\n",
    "print(\"\\n\")\n",
    "\n",
    "#c\n",
    "print(\"c\")\n",
    "class myerror(Exception):\n",
    "    def __init__(self,error):\n",
    "        self.error=error\n",
    "\n",
    "try:\n",
    "    a=int(input(\"enter positive no \"))\n",
    "    if a<0:\n",
    "        raise myerror(\"its negative\")\n",
    "except myerror as e:\n",
    "    print(e)\n",
    "\n",
    "\n"
   ]
  },
  {
   "cell_type": "markdown",
   "metadata": {},
   "source": [
    "Q5. What are Custom Exceptions in python? Why do we need Custom Exceptions? Explain with an example"
   ]
  },
  {
   "cell_type": "code",
   "execution_count": 16,
   "metadata": {},
   "outputs": [
    {
     "name": "stdout",
     "output_type": "stream",
     "text": [
      "don't have enough money to withdraw\n"
     ]
    }
   ],
   "source": [
    "''' \n",
    "Custom exceptions are the exceptions that are defined by the user. \n",
    "Custom exceptions are required to raise issues that are not necessary wrong to the system, but to the user\n",
    "helps in customization\n",
    "'''\n",
    "#custom exception class\n",
    "class myerror(Exception):\n",
    "    def __init__(self, msg):\n",
    "        self.msg=msg\n",
    "#raising the custom exception\n",
    "def bank(amt_in,amt_wd):\n",
    "    if amt_wd>amt_in:\n",
    "        raise myerror(\"don't have enough money to withdraw\")\n",
    "#handling \n",
    "try:\n",
    "    bank(100,1000)\n",
    "except myerror as e:\n",
    "    print(e)"
   ]
  },
  {
   "cell_type": "markdown",
   "metadata": {},
   "source": [
    "Q6. Create a custom exception class. Use this class to handle an exception."
   ]
  },
  {
   "cell_type": "code",
   "execution_count": 17,
   "metadata": {},
   "outputs": [
    {
     "name": "stdout",
     "output_type": "stream",
     "text": [
      "not eligible to vote\n"
     ]
    }
   ],
   "source": [
    "class error(Exception):\n",
    "    def __init__(self,msg):\n",
    "        self.msg=msg\n",
    "\n",
    "def vote(age):\n",
    "    if age<0:\n",
    "        raise error(\"invalid age\")\n",
    "    elif age<18 and age>0:\n",
    "        raise error(\"not eligible to vote\")\n",
    "    else:\n",
    "        print(\"can vote\")\n",
    "\n",
    "try:\n",
    "    vote(16)\n",
    "except error as e:\n",
    "    print(e)"
   ]
  },
  {
   "cell_type": "code",
   "execution_count": null,
   "metadata": {},
   "outputs": [],
   "source": []
  }
 ],
 "metadata": {
  "kernelspec": {
   "display_name": "Python 3",
   "language": "python",
   "name": "python3"
  },
  "language_info": {
   "codemirror_mode": {
    "name": "ipython",
    "version": 3
   },
   "file_extension": ".py",
   "mimetype": "text/x-python",
   "name": "python",
   "nbconvert_exporter": "python",
   "pygments_lexer": "ipython3",
   "version": "3.11.5"
  },
  "orig_nbformat": 4
 },
 "nbformat": 4,
 "nbformat_minor": 2
}
