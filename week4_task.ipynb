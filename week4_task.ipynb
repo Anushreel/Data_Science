{
 "cells": [
  {
   "cell_type": "markdown",
   "metadata": {},
   "source": [
    "# week 4 task\n",
    "Q1, Create a vehicle class with an init method having instance variables as name_of_vehicle, max_speed\n",
    "and average_of_vehicle."
   ]
  },
  {
   "cell_type": "code",
   "execution_count": 6,
   "metadata": {},
   "outputs": [
    {
     "name": "stdout",
     "output_type": "stream",
     "text": [
      "3000\n",
      "Motor Cycles\n",
      "250\n"
     ]
    }
   ],
   "source": [
    "class vehicle:\n",
    "    def __init__(self,name_of_vehicle,max_speed,average_of_vehicle):\n",
    "        self.name_of_vehicle=name_of_vehicle\n",
    "        self.max_speed=max_speed\n",
    "        self.average_of_vehicle=average_of_vehicle\n",
    "\n",
    "vehicle_obj=vehicle(\"Motor Cycles\",250,3000)\n",
    "print(vehicle_obj.average_of_vehicle)\n",
    "print(vehicle_obj.name_of_vehicle)\n",
    "print(vehicle_obj.max_speed)"
   ]
  },
  {
   "cell_type": "markdown",
   "metadata": {},
   "source": [
    "Q2. Create a child class car from the vehicle class created in Que 1, which will inherit the vehicle class.\n",
    "Create a method named seating_capacity which takes capacity as an argument and returns the name of\n",
    "the vehicle and its seating capacity."
   ]
  },
  {
   "cell_type": "code",
   "execution_count": 8,
   "metadata": {},
   "outputs": [
    {
     "data": {
      "text/plain": [
       "('Ferrari Maranello', 2)"
      ]
     },
     "execution_count": 8,
     "metadata": {},
     "output_type": "execute_result"
    }
   ],
   "source": [
    "class car(vehicle):\n",
    "    def seating_capacity(self,capacity):\n",
    "        self.capacity=capacity\n",
    "        return self.name_of_vehicle,self.capacity\n",
    "    \n",
    "car_obj=car(\"Ferrari Maranello\",199,190)\n",
    "car_obj.seating_capacity(2)"
   ]
  },
  {
   "cell_type": "markdown",
   "metadata": {},
   "source": [
    "Q3. What is multiple inheritance? Write a python code to demonstrate multiple inheritance."
   ]
  },
  {
   "cell_type": "code",
   "execution_count": 10,
   "metadata": {},
   "outputs": [
    {
     "name": "stdout",
     "output_type": "stream",
     "text": [
      "a\n",
      "b\n",
      "c\n",
      "c class has two parents a & b\n"
     ]
    }
   ],
   "source": [
    "\"\"\"\n",
    "Multiple Inheritance:\n",
    "Multiple inheritance allows a subclass to inherit from multiple superclasses. This can lead to complex class hierarchies.\n",
    "\"\"\"\n",
    "class a:\n",
    "    def a_fun(self):\n",
    "        print(\"a\")\n",
    "class b:\n",
    "    def b_fun(self):\n",
    "        print(\"b\")\n",
    "class c(a,b):\n",
    "    def c_fun(self):\n",
    "        print(\"c\")\n",
    "        print(\"c class has two parents a & b\")\n",
    "\n",
    "c_obj=c()\n",
    "c_obj.a_fun()#c class object can access functions of a and b class\n",
    "c_obj.b_fun()\n",
    "c_obj.c_fun()"
   ]
  },
  {
   "cell_type": "markdown",
   "metadata": {},
   "source": [
    "Q4. What are getter and setter in python? Create a class and create a getter and a setter method in this\n",
    "class."
   ]
  },
  {
   "cell_type": "code",
   "execution_count": 12,
   "metadata": {},
   "outputs": [
    {
     "name": "stdout",
     "output_type": "stream",
     "text": [
      "Alice\n",
      "Bob\n",
      "Invalid input. Age must be a non-negative integer.\n",
      "25\n"
     ]
    }
   ],
   "source": [
    "\"\"\" \n",
    "Getter and setter methods are used to control access to the attributes (instance variables) of a class. They allow you to encapsulate \n",
    "the attribute access and provide a way to get and set the values of attributes with additional logic or validation if needed.\n",
    "Getter methods are used to retrieve the values of attributes, and setter methods are used to modify the values of attributes.\n",
    "\"\"\"\n",
    "class Student:\n",
    "    def __init__(self, name, age):\n",
    "        self._name = name \n",
    "        self._age = age   \n",
    "    # Getter method for the 'name' attribute\n",
    "    def get_name(self):\n",
    "        return self._name\n",
    "\n",
    "    # Setter method for the 'name' attribute\n",
    "    def set_name(self, name):\n",
    "        if isinstance(name, str):\n",
    "            self._name = name\n",
    "        else:\n",
    "            print(\"Invalid input. Name must be a string.\")\n",
    "\n",
    "    # Getter method for the 'age' attribute\n",
    "    def get_age(self):\n",
    "        return self._age\n",
    "\n",
    "    # Setter method for the 'age' attribute\n",
    "    def set_age(self, age):\n",
    "        if isinstance(age, int) and age >= 0:\n",
    "            self._age = age\n",
    "        else:\n",
    "            print(\"Invalid input. Age must be a non-negative integer.\")\n",
    "\n",
    "student = Student(\"Alice\", 25)\n",
    "\n",
    "# Use the getter method to retrieve the 'name' attribute\n",
    "print(student.get_name()) \n",
    "\n",
    "# Use the setter method to change the 'name' attribute\n",
    "student.set_name(\"Bob\")\n",
    "\n",
    "# Use the getter method to retrieve the updated 'name' attribute\n",
    "print(student.get_name())  \n",
    "\n",
    "# Use the setter method to set an invalid value for 'age' (negative)\n",
    "student.set_age(-5) \n",
    "\n",
    "# Use the getter method to retrieve the 'age' attribute\n",
    "print(student.get_age()) \n"
   ]
  },
  {
   "cell_type": "markdown",
   "metadata": {},
   "source": [
    "Q5.What is method overriding in python? Write a python code to demonstrate method overriding."
   ]
  },
  {
   "cell_type": "code",
   "execution_count": 11,
   "metadata": {},
   "outputs": [
    {
     "name": "stdout",
     "output_type": "stream",
     "text": [
      "Woof!\n",
      "Meow!\n"
     ]
    }
   ],
   "source": [
    "\"\"\"\n",
    "Method overriding in Python is a feature of object-oriented programming that allows a subclass to provide a specific implementation of a method that is\n",
    "already defined in its superclass. When a subclass overrides a method, it provides a new implementation for that method, which is used when the method is\n",
    "called on an object of the subclass. Method overriding is used to achieve polymorphism and to customize the behavior of a method in a subclass.\n",
    "\"\"\"\n",
    "class Animal:\n",
    "    def speak(self):\n",
    "        return \"Animal makes a sound\"\n",
    "\n",
    "class Dog(Animal):\n",
    "    def speak(self):\n",
    "        return \"Woof!\"\n",
    "\n",
    "class Cat(Animal):\n",
    "    def speak(self):\n",
    "        return \"Meow!\"\n",
    "\n",
    "# Create instances of the Dog and Cat classes\n",
    "dog = Dog()\n",
    "cat = Cat()\n",
    "\n",
    "print(dog.speak())  \n",
    "print(cat.speak())  \n"
   ]
  }
 ],
 "metadata": {
  "kernelspec": {
   "display_name": "Python 3",
   "language": "python",
   "name": "python3"
  },
  "language_info": {
   "codemirror_mode": {
    "name": "ipython",
    "version": 3
   },
   "file_extension": ".py",
   "mimetype": "text/x-python",
   "name": "python",
   "nbconvert_exporter": "python",
   "pygments_lexer": "ipython3",
   "version": "3.11.4"
  },
  "orig_nbformat": 4
 },
 "nbformat": 4,
 "nbformat_minor": 2
}
